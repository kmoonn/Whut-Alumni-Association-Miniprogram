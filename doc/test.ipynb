{
 "cells": [
  {
   "cell_type": "code",
   "execution_count": 2,
   "id": "26166896-985a-4767-b7c5-461683dda642",
   "metadata": {},
   "outputs": [
    {
     "name": "stdout",
     "output_type": "stream",
     "text": [
      "Requirement already satisfied: bcrypt in c:\\users\\hi\\miniconda3\\lib\\site-packages (5.0.0)\n"
     ]
    }
   ],
   "source": [
    "!pip install bcrypt"
   ]
  },
  {
   "cell_type": "code",
   "execution_count": 3,
   "id": "c8aaba17-3880-4918-aa76-5b037a2840b6",
   "metadata": {},
   "outputs": [
    {
     "name": "stdout",
     "output_type": "stream",
     "text": [
      "快速密码加密测试\n",
      "========================================\n",
      "原始密码: Admin@Whut815\n",
      "加密结果: $2b$12$ylVfTA3/gORvhNfeTTiaquk3IOUG0SbWJtnoxfPMj61q6zIJk0..m\n",
      "正确密码验证: True\n",
      "错误密码验证: False\n"
     ]
    }
   ],
   "source": [
    "import bcrypt\n",
    "\n",
    "def quick_test():\n",
    "    \"\"\"快速测试\"\"\"\n",
    "    password = \"Admin@Whut815\"\n",
    "    \n",
    "    print(\"快速密码加密测试\")\n",
    "    print(\"=\" * 40)\n",
    "    print(f\"原始密码: {password}\")\n",
    "    \n",
    "    # 加密\n",
    "    hashed = bcrypt.hashpw(password.encode('utf-8'), bcrypt.gensalt(rounds=12))\n",
    "    print(f\"加密结果: {hashed.decode('utf-8')}\")\n",
    "    \n",
    "    # 验证\n",
    "    test1 = bcrypt.checkpw(password.encode('utf-8'), hashed)\n",
    "    test2 = bcrypt.checkpw(\"WrongPassword\".encode('utf-8'), hashed)\n",
    "    \n",
    "    print(f\"正确密码验证: {test1}\")\n",
    "    print(f\"错误密码验证: {test2}\")\n",
    "\n",
    "# 运行快速测试\n",
    "quick_test()"
   ]
  },
  {
   "cell_type": "code",
   "execution_count": null,
   "id": "eb160569-63fd-4c2d-ab6b-e37ad12d09cf",
   "metadata": {},
   "outputs": [],
   "source": []
  }
 ],
 "metadata": {
  "kernelspec": {
   "display_name": "Python 3 (ipykernel)",
   "language": "python",
   "name": "python3"
  },
  "language_info": {
   "codemirror_mode": {
    "name": "ipython",
    "version": 3
   },
   "file_extension": ".py",
   "mimetype": "text/x-python",
   "name": "python",
   "nbconvert_exporter": "python",
   "pygments_lexer": "ipython3",
   "version": "3.13.2"
  }
 },
 "nbformat": 4,
 "nbformat_minor": 5
}
